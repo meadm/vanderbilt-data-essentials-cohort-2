{
 "cells": [
  {
   "cell_type": "code",
   "execution_count": 1,
   "metadata": {},
   "outputs": [],
   "source": [
    "import pandas as pd\n",
    "import matplotlib.pyplot as plt\n",
    "import seaborn as sns\n",
    "\n",
    "%matplotlib inline"
   ]
  },
  {
   "cell_type": "markdown",
   "metadata": {},
   "source": [
    "### Read in the public art data and examine the shape, head, and tail"
   ]
  },
  {
   "cell_type": "code",
   "execution_count": 2,
   "metadata": {},
   "outputs": [
    {
     "data": {
      "text/html": [
       "<div>\n",
       "<style scoped>\n",
       "    .dataframe tbody tr th:only-of-type {\n",
       "        vertical-align: middle;\n",
       "    }\n",
       "\n",
       "    .dataframe tbody tr th {\n",
       "        vertical-align: top;\n",
       "    }\n",
       "\n",
       "    .dataframe thead th {\n",
       "        text-align: right;\n",
       "    }\n",
       "</style>\n",
       "<table border=\"1\" class=\"dataframe\">\n",
       "  <thead>\n",
       "    <tr style=\"text-align: right;\">\n",
       "      <th></th>\n",
       "      <th>Title</th>\n",
       "      <th>Last Name</th>\n",
       "      <th>First Name</th>\n",
       "      <th>Location</th>\n",
       "      <th>Medium</th>\n",
       "      <th>Type</th>\n",
       "      <th>Description</th>\n",
       "      <th>Latitude</th>\n",
       "      <th>Longitude</th>\n",
       "      <th>Mapped Location</th>\n",
       "    </tr>\n",
       "  </thead>\n",
       "  <tbody>\n",
       "    <tr>\n",
       "      <th>0</th>\n",
       "      <td>[Cross Country Runners]</td>\n",
       "      <td>Frost</td>\n",
       "      <td>Miley</td>\n",
       "      <td>4001 Harding Rd., Nashville TN</td>\n",
       "      <td>Bronze</td>\n",
       "      <td>Sculpture</td>\n",
       "      <td>NaN</td>\n",
       "      <td>36.12856</td>\n",
       "      <td>-86.83660</td>\n",
       "      <td>(36.12856, -86.8366)</td>\n",
       "    </tr>\n",
       "    <tr>\n",
       "      <th>1</th>\n",
       "      <td>[Fourth and Commerce Sculpture]</td>\n",
       "      <td>Walker</td>\n",
       "      <td>Lin</td>\n",
       "      <td>333 Commerce Street, Nashville TN</td>\n",
       "      <td>NaN</td>\n",
       "      <td>Sculpture</td>\n",
       "      <td>NaN</td>\n",
       "      <td>36.16234</td>\n",
       "      <td>-86.77774</td>\n",
       "      <td>(36.16234, -86.77774)</td>\n",
       "    </tr>\n",
       "  </tbody>\n",
       "</table>\n",
       "</div>"
      ],
      "text/plain": [
       "                             Title Last Name First Name  \\\n",
       "0          [Cross Country Runners]     Frost      Miley   \n",
       "1  [Fourth and Commerce Sculpture]    Walker        Lin   \n",
       "\n",
       "                            Location  Medium       Type Description  Latitude  \\\n",
       "0     4001 Harding Rd., Nashville TN  Bronze  Sculpture         NaN  36.12856   \n",
       "1  333 Commerce Street, Nashville TN     NaN  Sculpture         NaN  36.16234   \n",
       "\n",
       "   Longitude        Mapped Location  \n",
       "0  -86.83660   (36.12856, -86.8366)  \n",
       "1  -86.77774  (36.16234, -86.77774)  "
      ]
     },
     "execution_count": 2,
     "metadata": {},
     "output_type": "execute_result"
    }
   ],
   "source": [
    "art = pd.read_csv('../data/public_art.csv')\n",
    "art.head(2)"
   ]
  },
  {
   "cell_type": "code",
   "execution_count": 3,
   "metadata": {},
   "outputs": [],
   "source": [
    "art = art.drop(columns = ['Mapped Location'])"
   ]
  },
  {
   "cell_type": "code",
   "execution_count": 4,
   "metadata": {},
   "outputs": [
    {
     "data": {
      "text/plain": [
       "Index(['Title', 'Last Name', 'First Name', 'Location', 'Medium', 'Type',\n",
       "       'Description', 'Latitude', 'Longitude'],\n",
       "      dtype='object')"
      ]
     },
     "execution_count": 4,
     "metadata": {},
     "output_type": "execute_result"
    }
   ],
   "source": [
    "art.columns"
   ]
  },
  {
   "cell_type": "code",
   "execution_count": 5,
   "metadata": {},
   "outputs": [],
   "source": [
    "art = art.rename(columns = {'Title': 'title', 'Last Name': 'last_name', \n",
    "                            'First Name': 'first_name', 'Location': 'loc', \n",
    "                            'Medium': 'medium', 'Type': 'art_type', 'Description': 'desc', \n",
    "                            'Latitude': 'lat', 'Longitude': 'lng'})"
   ]
  },
  {
   "cell_type": "markdown",
   "metadata": {},
   "source": [
    "#### matplotlib - https://matplotlib.org/api/_as_gen/matplotlib.pyplot.plot.html#examples-using-matplotlib-pyplot-plot\n"
   ]
  },
  {
   "cell_type": "code",
   "execution_count": null,
   "metadata": {},
   "outputs": [],
   "source": [
    "art.head(2)"
   ]
  },
  {
   "cell_type": "code",
   "execution_count": 6,
   "metadata": {},
   "outputs": [
    {
     "data": {
      "text/plain": [
       "Sculpture             61\n",
       "Mural                 38\n",
       "Monument              16\n",
       "Various                2\n",
       "Mosaic                 2\n",
       "Frieze                 2\n",
       "Mobile                 2\n",
       "Furniture              1\n",
       "Street Art             1\n",
       "Multipart              1\n",
       "mural                  1\n",
       "Stained Glass          1\n",
       "Sculpture/Fountain     1\n",
       "Bronzes                1\n",
       "Relief                 1\n",
       "Fountain               1\n",
       "Name: art_type, dtype: int64"
      ]
     },
     "execution_count": 6,
     "metadata": {},
     "output_type": "execute_result"
    }
   ],
   "source": [
    "art.art_type.value_counts()"
   ]
  },
  {
   "cell_type": "code",
   "execution_count": 7,
   "metadata": {},
   "outputs": [],
   "source": [
    "type_counts = art.art_type.value_counts()"
   ]
  },
  {
   "cell_type": "code",
   "execution_count": 8,
   "metadata": {},
   "outputs": [
    {
     "data": {
      "text/plain": [
       "pandas.core.series.Series"
      ]
     },
     "execution_count": 8,
     "metadata": {},
     "output_type": "execute_result"
    }
   ],
   "source": [
    "type(type_counts)"
   ]
  },
  {
   "cell_type": "code",
   "execution_count": 9,
   "metadata": {},
   "outputs": [],
   "source": [
    "#make series a df\n",
    "type_counts = type_counts.to_frame()\n",
    "\n",
    "#reset index resets to 0-based index and moves existing index to a column\n",
    "type_counts = type_counts.reset_index()"
   ]
  },
  {
   "cell_type": "code",
   "execution_count": 10,
   "metadata": {},
   "outputs": [
    {
     "data": {
      "text/html": [
       "<div>\n",
       "<style scoped>\n",
       "    .dataframe tbody tr th:only-of-type {\n",
       "        vertical-align: middle;\n",
       "    }\n",
       "\n",
       "    .dataframe tbody tr th {\n",
       "        vertical-align: top;\n",
       "    }\n",
       "\n",
       "    .dataframe thead th {\n",
       "        text-align: right;\n",
       "    }\n",
       "</style>\n",
       "<table border=\"1\" class=\"dataframe\">\n",
       "  <thead>\n",
       "    <tr style=\"text-align: right;\">\n",
       "      <th></th>\n",
       "      <th>art_type</th>\n",
       "      <th>count</th>\n",
       "    </tr>\n",
       "  </thead>\n",
       "  <tbody>\n",
       "    <tr>\n",
       "      <th>0</th>\n",
       "      <td>Sculpture</td>\n",
       "      <td>61</td>\n",
       "    </tr>\n",
       "    <tr>\n",
       "      <th>1</th>\n",
       "      <td>Mural</td>\n",
       "      <td>38</td>\n",
       "    </tr>\n",
       "    <tr>\n",
       "      <th>2</th>\n",
       "      <td>Monument</td>\n",
       "      <td>16</td>\n",
       "    </tr>\n",
       "  </tbody>\n",
       "</table>\n",
       "</div>"
      ],
      "text/plain": [
       "    art_type  count\n",
       "0  Sculpture     61\n",
       "1      Mural     38\n",
       "2   Monument     16"
      ]
     },
     "execution_count": 10,
     "metadata": {},
     "output_type": "execute_result"
    }
   ],
   "source": [
    "type_counts.columns = ['art_type', 'count']\n",
    "type_counts.head(3)"
   ]
  },
  {
   "cell_type": "code",
   "execution_count": 11,
   "metadata": {},
   "outputs": [
    {
     "data": {
      "text/plain": [
       "pandas.core.frame.DataFrame"
      ]
     },
     "execution_count": 11,
     "metadata": {},
     "output_type": "execute_result"
    }
   ],
   "source": [
    "type(type_counts)"
   ]
  },
  {
   "cell_type": "markdown",
   "metadata": {},
   "source": [
    "### Simplest horizontal barplot using matplotlib.pyplot"
   ]
  },
  {
   "cell_type": "code",
   "execution_count": 13,
   "metadata": {},
   "outputs": [
    {
     "data": {
      "image/png": "[encoded data removed]",
      "text/plain": [
       "<Figure size 432x288 with 1 Axes>"
      ]
     },
     "metadata": {},
     "output_type": "display_data"
    }
   ],
   "source": [
    "plt.barh('art_type', 'count', data=type_counts, color = 'green', edgecolor = 'black');"
   ]
  },
  {
   "cell_type": "markdown",
   "metadata": {},
   "source": [
    "### Fancier horizontal barplot with seaborn"
   ]
  },
  {
   "cell_type": "code",
   "execution_count": 12,
   "metadata": {},
   "outputs": [
    {
     "data": {
      "image/png": "[encoded data removed]",
      "text/plain": [
       "<Figure size 576x432 with 1 Axes>"
      ]
     },
     "metadata": {
      "needs_background": "light"
     },
     "output_type": "display_data"
    }
   ],
   "source": [
    "plt.figure(figsize = (8, 6))\n",
    "sns.set(style=\"whitegrid\")\n",
    "sns.barplot('count', 'art_type', data = type_counts, palette = 'colorblind')\n",
    "plt.xlabel('')\n",
    "plt.ylabel('')\n",
    "plt.title('Types of Public Art in Nashville');"
   ]
  },
  {
   "cell_type": "markdown",
   "metadata": {},
   "source": [
    "### Let's map the `art` types to fewer categories"
   ]
  },
  {
   "cell_type": "code",
   "execution_count": 14,
   "metadata": {},
   "outputs": [],
   "source": [
    "# map Frieze, Sculpture/Fountain, Fountain, and Relief to Sculpture\n",
    "# map Street Art, mural to Mural\n",
    "# map Bronzes to Monument\n",
    "\n",
    "art.art_type = art.art_type.map({'Sculpture': 'Sculpture', 'Mural': 'Mural', 'Frieze': 'Sculpture',\n",
    "             'Monument': 'Monument', 'Mobile': 'Mobile', 'Furniture': 'Furniture',\n",
    "             'Mosaic': 'Mosaic', 'Relief': 'Sculpture', 'Stained Glass': 'Stained Glass',\n",
    "             'Bronzes': 'Monument', 'Sculpture/Fountain': 'Sculpture',\n",
    "             'Various': 'Various', 'Street Art': 'Street Art', 'mural': 'Mural',\n",
    "             'Fountain': 'Sculpture', 'Multipart': 'Multipart'})\n"
   ]
  },
  {
   "cell_type": "code",
   "execution_count": 15,
   "metadata": {},
   "outputs": [
    {
     "data": {
      "text/plain": [
       "array(['Sculpture', 'Mural', 'Monument', 'Mobile', 'Furniture', 'Mosaic',\n",
       "       'Stained Glass', 'Various', 'Street Art', 'Multipart'],\n",
       "      dtype=object)"
      ]
     },
     "execution_count": 15,
     "metadata": {},
     "output_type": "execute_result"
    }
   ],
   "source": [
    "art.art_type.unique()"
   ]
  },
  {
   "cell_type": "code",
   "execution_count": 16,
   "metadata": {},
   "outputs": [],
   "source": [
    "# create new type counts from the revised data\n",
    "type_counts_revised = art.art_type.value_counts()\n",
    "\n",
    "# make series a df\n",
    "type_counts_revised = type_counts_revised.to_frame()\n",
    "\n",
    "# reset index resets to 0-based index and moves existing index to a column\n",
    "type_counts_revised = type_counts_revised.reset_index()\n",
    "\n",
    "type_counts_revised.columns = ['art_type', 'count']\n"
   ]
  },
  {
   "cell_type": "code",
   "execution_count": 17,
   "metadata": {},
   "outputs": [
    {
     "data": {
      "text/html": [
       "<div>\n",
       "<style scoped>\n",
       "    .dataframe tbody tr th:only-of-type {\n",
       "        vertical-align: middle;\n",
       "    }\n",
       "\n",
       "    .dataframe tbody tr th {\n",
       "        vertical-align: top;\n",
       "    }\n",
       "\n",
       "    .dataframe thead th {\n",
       "        text-align: right;\n",
       "    }\n",
       "</style>\n",
       "<table border=\"1\" class=\"dataframe\">\n",
       "  <thead>\n",
       "    <tr style=\"text-align: right;\">\n",
       "      <th></th>\n",
       "      <th>art_type</th>\n",
       "      <th>count</th>\n",
       "    </tr>\n",
       "  </thead>\n",
       "  <tbody>\n",
       "    <tr>\n",
       "      <th>0</th>\n",
       "      <td>Sculpture</td>\n",
       "      <td>66</td>\n",
       "    </tr>\n",
       "    <tr>\n",
       "      <th>1</th>\n",
       "      <td>Mural</td>\n",
       "      <td>39</td>\n",
       "    </tr>\n",
       "  </tbody>\n",
       "</table>\n",
       "</div>"
      ],
      "text/plain": [
       "    art_type  count\n",
       "0  Sculpture     66\n",
       "1      Mural     39"
      ]
     },
     "execution_count": 17,
     "metadata": {},
     "output_type": "execute_result"
    }
   ],
   "source": [
    "type_counts_revised.head(2)"
   ]
  },
  {
   "cell_type": "markdown",
   "metadata": {},
   "source": [
    "### And redraw the horizontal barplot"
   ]
  },
  {
   "cell_type": "code",
   "execution_count": 18,
   "metadata": {
    "scrolled": true
   },
   "outputs": [
    {
     "data": {
      "image/png": "[encoded data removed]",
      "text/plain": [
       "<Figure size 576x288 with 1 Axes>"
      ]
     },
     "metadata": {},
     "output_type": "display_data"
    }
   ],
   "source": [
    "plt.figure(figsize = (8, 4))\n",
    "sns.set(style=\"whitegrid\")\n",
    "sns.barplot('count', 'art_type', data = type_counts_revised, palette = 'colorblind')\n",
    "plt.xlabel('')\n",
    "plt.ylabel('')\n",
    "plt.title('Types of Public Art in Nashville');"
   ]
  },
  {
   "cell_type": "markdown",
   "metadata": {},
   "source": [
    "### Steps to create an aggregated dataset:\n",
    " 1. Group by the columns you want to aggregate by with `df.groupby([col1, col2])`\n",
    " 2. Use the `.agg()` function to get a count for groups\n",
    " 3. Keep the desired columns / drop the ones you don't need  \n",
    " 4. Rename columns (use `df.sort_values()` with `ascending = False` to put the largest value first\n",
    " "
   ]
  },
  {
   "cell_type": "code",
   "execution_count": 19,
   "metadata": {},
   "outputs": [],
   "source": [
    "# aggregate to get counts by type and artist\n",
    "aggregated_art = art.groupby(['art_type', 'last_name', 'first_name']).agg('count').reset_index()"
   ]
  },
  {
   "cell_type": "code",
   "execution_count": 20,
   "metadata": {},
   "outputs": [
    {
     "data": {
      "text/html": [
       "<div>\n",
       "<style scoped>\n",
       "    .dataframe tbody tr th:only-of-type {\n",
       "        vertical-align: middle;\n",
       "    }\n",
       "\n",
       "    .dataframe tbody tr th {\n",
       "        vertical-align: top;\n",
       "    }\n",
       "\n",
       "    .dataframe thead th {\n",
       "        text-align: right;\n",
       "    }\n",
       "</style>\n",
       "<table border=\"1\" class=\"dataframe\">\n",
       "  <thead>\n",
       "    <tr style=\"text-align: right;\">\n",
       "      <th></th>\n",
       "      <th>art_type</th>\n",
       "      <th>last_name</th>\n",
       "      <th>first_name</th>\n",
       "      <th>title</th>\n",
       "      <th>loc</th>\n",
       "      <th>medium</th>\n",
       "      <th>desc</th>\n",
       "      <th>lat</th>\n",
       "      <th>lng</th>\n",
       "    </tr>\n",
       "  </thead>\n",
       "  <tbody>\n",
       "    <tr>\n",
       "      <th>0</th>\n",
       "      <td>Furniture</td>\n",
       "      <td>McGraw</td>\n",
       "      <td>Deloss</td>\n",
       "      <td>1</td>\n",
       "      <td>1</td>\n",
       "      <td>1</td>\n",
       "      <td>1</td>\n",
       "      <td>1</td>\n",
       "      <td>1</td>\n",
       "    </tr>\n",
       "    <tr>\n",
       "      <th>1</th>\n",
       "      <td>Mobile</td>\n",
       "      <td>Emery</td>\n",
       "      <td>Lin</td>\n",
       "      <td>1</td>\n",
       "      <td>1</td>\n",
       "      <td>1</td>\n",
       "      <td>1</td>\n",
       "      <td>1</td>\n",
       "      <td>1</td>\n",
       "    </tr>\n",
       "  </tbody>\n",
       "</table>\n",
       "</div>"
      ],
      "text/plain": [
       "    art_type last_name first_name  title  loc  medium  desc  lat  lng\n",
       "0  Furniture    McGraw     Deloss      1    1       1     1    1    1\n",
       "1     Mobile     Emery        Lin      1    1       1     1    1    1"
      ]
     },
     "execution_count": 20,
     "metadata": {},
     "output_type": "execute_result"
    }
   ],
   "source": [
    "aggregated_art.head(2)"
   ]
  },
  {
   "cell_type": "code",
   "execution_count": 21,
   "metadata": {},
   "outputs": [
    {
     "data": {
      "text/html": [
       "<div>\n",
       "<style scoped>\n",
       "    .dataframe tbody tr th:only-of-type {\n",
       "        vertical-align: middle;\n",
       "    }\n",
       "\n",
       "    .dataframe tbody tr th {\n",
       "        vertical-align: top;\n",
       "    }\n",
       "\n",
       "    .dataframe thead th {\n",
       "        text-align: right;\n",
       "    }\n",
       "</style>\n",
       "<table border=\"1\" class=\"dataframe\">\n",
       "  <thead>\n",
       "    <tr style=\"text-align: right;\">\n",
       "      <th></th>\n",
       "      <th>art_type</th>\n",
       "      <th>last_name</th>\n",
       "      <th>first_name</th>\n",
       "      <th>art_count</th>\n",
       "    </tr>\n",
       "  </thead>\n",
       "  <tbody>\n",
       "    <tr>\n",
       "      <th>40</th>\n",
       "      <td>Sculpture</td>\n",
       "      <td>Faxon</td>\n",
       "      <td>Russell</td>\n",
       "      <td>9</td>\n",
       "    </tr>\n",
       "    <tr>\n",
       "      <th>51</th>\n",
       "      <td>Sculpture</td>\n",
       "      <td>LeQuire</td>\n",
       "      <td>Alan</td>\n",
       "      <td>6</td>\n",
       "    </tr>\n",
       "    <tr>\n",
       "      <th>57</th>\n",
       "      <td>Sculpture</td>\n",
       "      <td>Mims</td>\n",
       "      <td>Puryear</td>\n",
       "      <td>6</td>\n",
       "    </tr>\n",
       "    <tr>\n",
       "      <th>29</th>\n",
       "      <td>Mural</td>\n",
       "      <td>Rudloff</td>\n",
       "      <td>Andee</td>\n",
       "      <td>6</td>\n",
       "    </tr>\n",
       "    <tr>\n",
       "      <th>17</th>\n",
       "      <td>Mural</td>\n",
       "      <td>Cooper</td>\n",
       "      <td>Michael</td>\n",
       "      <td>6</td>\n",
       "    </tr>\n",
       "  </tbody>\n",
       "</table>\n",
       "</div>"
      ],
      "text/plain": [
       "     art_type last_name first_name  art_count\n",
       "40  Sculpture     Faxon    Russell          9\n",
       "51  Sculpture   LeQuire       Alan          6\n",
       "57  Sculpture      Mims    Puryear          6\n",
       "29      Mural   Rudloff      Andee          6\n",
       "17      Mural    Cooper    Michael          6"
      ]
     },
     "execution_count": 21,
     "metadata": {},
     "output_type": "execute_result"
    }
   ],
   "source": [
    "#give me all of the rows starting at zero until the end and give me the columns startign at zero and stopping at 4 (stop at title)\n",
    "aggregated_art = aggregated_art.iloc[0:,0:4]\n",
    "aggregated_art.columns = ['art_type', 'last_name', 'first_name','art_count']\n",
    "aggregated_art = aggregated_art.sort_values('art_count', ascending = False)\n",
    "aggregated_art.head()"
   ]
  },
  {
   "cell_type": "code",
   "execution_count": 22,
   "metadata": {},
   "outputs": [
    {
     "data": {
      "text/plain": [
       "(15, 4)"
      ]
     },
     "execution_count": 22,
     "metadata": {},
     "output_type": "execute_result"
    }
   ],
   "source": [
    "#df.loc will count\n",
    "multiple_works = aggregated_art.loc[aggregated_art.art_count > 1]\n",
    "multiple_works.shape"
   ]
  },
  {
   "cell_type": "code",
   "execution_count": 24,
   "metadata": {},
   "outputs": [
    {
     "data": {
      "text/html": [
       "<div>\n",
       "<style scoped>\n",
       "    .dataframe tbody tr th:only-of-type {\n",
       "        vertical-align: middle;\n",
       "    }\n",
       "\n",
       "    .dataframe tbody tr th {\n",
       "        vertical-align: top;\n",
       "    }\n",
       "\n",
       "    .dataframe thead th {\n",
       "        text-align: right;\n",
       "    }\n",
       "</style>\n",
       "<table border=\"1\" class=\"dataframe\">\n",
       "  <thead>\n",
       "    <tr style=\"text-align: right;\">\n",
       "      <th></th>\n",
       "      <th>art_type</th>\n",
       "      <th>last_name</th>\n",
       "      <th>first_name</th>\n",
       "      <th>art_count</th>\n",
       "    </tr>\n",
       "  </thead>\n",
       "  <tbody>\n",
       "    <tr>\n",
       "      <th>40</th>\n",
       "      <td>Sculpture</td>\n",
       "      <td>Faxon</td>\n",
       "      <td>Russell</td>\n",
       "      <td>9</td>\n",
       "    </tr>\n",
       "    <tr>\n",
       "      <th>51</th>\n",
       "      <td>Sculpture</td>\n",
       "      <td>LeQuire</td>\n",
       "      <td>Alan</td>\n",
       "      <td>6</td>\n",
       "    </tr>\n",
       "    <tr>\n",
       "      <th>57</th>\n",
       "      <td>Sculpture</td>\n",
       "      <td>Mims</td>\n",
       "      <td>Puryear</td>\n",
       "      <td>6</td>\n",
       "    </tr>\n",
       "    <tr>\n",
       "      <th>29</th>\n",
       "      <td>Mural</td>\n",
       "      <td>Rudloff</td>\n",
       "      <td>Andee</td>\n",
       "      <td>6</td>\n",
       "    </tr>\n",
       "    <tr>\n",
       "      <th>17</th>\n",
       "      <td>Mural</td>\n",
       "      <td>Cooper</td>\n",
       "      <td>Michael</td>\n",
       "      <td>6</td>\n",
       "    </tr>\n",
       "  </tbody>\n",
       "</table>\n",
       "</div>"
      ],
      "text/plain": [
       "     art_type last_name first_name  art_count\n",
       "40  Sculpture     Faxon    Russell          9\n",
       "51  Sculpture   LeQuire       Alan          6\n",
       "57  Sculpture      Mims    Puryear          6\n",
       "29      Mural   Rudloff      Andee          6\n",
       "17      Mural    Cooper    Michael          6"
      ]
     },
     "execution_count": 24,
     "metadata": {},
     "output_type": "execute_result"
    }
   ],
   "source": [
    "multiple_works.head()"
   ]
  },
  {
   "cell_type": "markdown",
   "metadata": {},
   "source": [
    "#### For loops and list comprehensions "
   ]
  },
  {
   "cell_type": "code",
   "execution_count": 23,
   "metadata": {},
   "outputs": [],
   "source": [
    "last_names =  list(multiple_works.last_name)\n",
    "first_names = list(multiple_works.first_name)"
   ]
  },
  {
   "cell_type": "markdown",
   "metadata": {},
   "source": [
    "#### We can intialize an empty list and then build and append artists' full names in a for-loop "
   ]
  },
  {
   "cell_type": "code",
   "execution_count": 25,
   "metadata": {},
   "outputs": [
    {
     "data": {
      "text/plain": [
       "['Russell Faxon',\n",
       " 'Alan LeQuire',\n",
       " 'Puryear Mims',\n",
       " 'Andee Rudloff',\n",
       " 'Michael Cooper',\n",
       " 'Adrien Saporiti',\n",
       " 'Belle and Leopold Kinney and Scholz',\n",
       " 'George Julian Zolnay',\n",
       " 'Various Various',\n",
       " 'Bryan Deese',\n",
       " 'Joe Sorci',\n",
       " 'Livin Limor',\n",
       " 'Unknown Unknown',\n",
       " 'Lin Walker',\n",
       " 'Alan LeQuire']"
      ]
     },
     "execution_count": 25,
     "metadata": {},
     "output_type": "execute_result"
    }
   ],
   "source": [
    "artists=[]\n",
    "for i in range(len(last_names)):\n",
    "    artists.append(first_names[i] + ' ' + last_names[i])\n",
    "artists               "
   ]
  },
  {
   "cell_type": "markdown",
   "metadata": {},
   "source": [
    "#### We can do the same task in a list comprehension\n",
    "- create a zip object of first and last names\n",
    "- add the for-statement to iterate through the zip object\n",
    "- pull out the elements needed to build a full name at the beginning of the comprehension"
   ]
  },
  {
   "cell_type": "code",
   "execution_count": 26,
   "metadata": {},
   "outputs": [
    {
     "data": {
      "text/plain": [
       "['Russell Faxon',\n",
       " 'Alan LeQuire',\n",
       " 'Puryear Mims',\n",
       " 'Andee Rudloff',\n",
       " 'Michael Cooper',\n",
       " 'Adrien Saporiti',\n",
       " 'Belle and Leopold Kinney and Scholz',\n",
       " 'George Julian Zolnay',\n",
       " 'Various Various',\n",
       " 'Bryan Deese',\n",
       " 'Joe Sorci',\n",
       " 'Livin Limor',\n",
       " 'Unknown Unknown',\n",
       " 'Lin Walker',\n",
       " 'Alan LeQuire']"
      ]
     },
     "execution_count": 26,
     "metadata": {},
     "output_type": "execute_result"
    }
   ],
   "source": [
    "artists2 = [name[0] +  ' ' + name[1] for name in zip(first_names, last_names)]\n",
    "artists2"
   ]
  },
  {
   "cell_type": "markdown",
   "metadata": {
    "collapsed": true
   },
   "source": [
    "### Introduction to `iterrows()`"
   ]
  },
  {
   "cell_type": "markdown",
   "metadata": {},
   "source": [
    " - Our task: iterate through the `multiple_works` dataframe and print each artist and the number of works of a given type\n",
    " - `df.iterrows()` returns a tuple of row index and row values"
   ]
  },
  {
   "cell_type": "code",
   "execution_count": 27,
   "metadata": {},
   "outputs": [
    {
     "name": "stdout",
     "output_type": "stream",
     "text": [
      "The index is  40\n",
      "The values are  art_type      Sculpture\n",
      "last_name         Faxon\n",
      "first_name      Russell\n",
      "art_count             9\n",
      "Name: 40, dtype: object\n",
      "=========================\n",
      "The index is  51\n",
      "The values are  art_type      Sculpture\n",
      "last_name       LeQuire\n",
      "first_name         Alan\n",
      "art_count             6\n",
      "Name: 51, dtype: object\n",
      "=========================\n",
      "The index is  57\n",
      "The values are  art_type      Sculpture\n",
      "last_name          Mims\n",
      "first_name      Puryear\n",
      "art_count             6\n",
      "Name: 57, dtype: object\n",
      "=========================\n",
      "The index is  29\n",
      "The values are  art_type        Mural\n",
      "last_name     Rudloff\n",
      "first_name      Andee\n",
      "art_count           6\n",
      "Name: 29, dtype: object\n",
      "=========================\n",
      "The index is  17\n",
      "The values are  art_type        Mural\n",
      "last_name      Cooper\n",
      "first_name    Michael\n",
      "art_count           6\n",
      "Name: 17, dtype: object\n",
      "=========================\n",
      "The index is  30\n",
      "The values are  art_type         Mural\n",
      "last_name     Saporiti\n",
      "first_name      Adrien\n",
      "art_count            5\n",
      "Name: 30, dtype: object\n",
      "=========================\n",
      "The index is  49\n",
      "The values are  art_type              Sculpture\n",
      "last_name     Kinney and Scholz\n",
      "first_name    Belle and Leopold\n",
      "art_count                     3\n",
      "Name: 49, dtype: object\n",
      "=========================\n",
      "The index is  13\n",
      "The values are  art_type           Monument\n",
      "last_name            Zolnay\n",
      "first_name    George Julian\n",
      "art_count                 3\n",
      "Name: 13, dtype: object\n",
      "=========================\n",
      "The index is  78\n",
      "The values are  art_type      Various\n",
      "last_name     Various\n",
      "first_name    Various\n",
      "art_count           2\n",
      "Name: 78, dtype: object\n",
      "=========================\n",
      "The index is  18\n",
      "The values are  art_type      Mural\n",
      "last_name     Deese\n",
      "first_name    Bryan\n",
      "art_count         2\n",
      "Name: 18, dtype: object\n",
      "=========================\n",
      "The index is  68\n",
      "The values are  art_type      Sculpture\n",
      "last_name         Sorci\n",
      "first_name          Joe\n",
      "art_count             2\n",
      "Name: 68, dtype: object\n",
      "=========================\n",
      "The index is  52\n",
      "The values are  art_type      Sculpture\n",
      "last_name         Limor\n",
      "first_name        Livin\n",
      "art_count             2\n",
      "Name: 52, dtype: object\n",
      "=========================\n",
      "The index is  9\n",
      "The values are  art_type      Monument\n",
      "last_name      Unknown\n",
      "first_name     Unknown\n",
      "art_count            2\n",
      "Name: 9, dtype: object\n",
      "=========================\n",
      "The index is  73\n",
      "The values are  art_type      Sculpture\n",
      "last_name        Walker\n",
      "first_name          Lin\n",
      "art_count             2\n",
      "Name: 73, dtype: object\n",
      "=========================\n",
      "The index is  6\n",
      "The values are  art_type      Monument\n",
      "last_name      LeQuire\n",
      "first_name        Alan\n",
      "art_count            2\n",
      "Name: 6, dtype: object\n",
      "=========================\n"
     ]
    }
   ],
   "source": [
    "for index, row_values in multiple_works.iterrows():\n",
    "    print('The index is ', index)\n",
    "    print('The values are ', row_values)\n",
    "    print('=========================')"
   ]
  },
  {
   "cell_type": "code",
   "execution_count": 28,
   "metadata": {},
   "outputs": [
    {
     "name": "stdout",
     "output_type": "stream",
     "text": [
      "Russell Faxon has 9 public artworks of type Sculpture\n",
      "Alan LeQuire has 6 public artworks of type Sculpture\n",
      "Puryear Mims has 6 public artworks of type Sculpture\n",
      "Andee Rudloff has 6 public artworks of type Mural\n",
      "Michael Cooper has 6 public artworks of type Mural\n",
      "Adrien Saporiti has 5 public artworks of type Mural\n",
      "Belle and Leopold Kinney and Scholz has 3 public artworks of type Sculpture\n",
      "George Julian Zolnay has 3 public artworks of type Monument\n",
      "Various Various has 2 public artworks of type Various\n",
      "Bryan Deese has 2 public artworks of type Mural\n",
      "Joe Sorci has 2 public artworks of type Sculpture\n",
      "Livin Limor has 2 public artworks of type Sculpture\n",
      "Unknown Unknown has 2 public artworks of type Monument\n",
      "Lin Walker has 2 public artworks of type Sculpture\n",
      "Alan LeQuire has 2 public artworks of type Monument\n"
     ]
    }
   ],
   "source": [
    "for index, row_values in multiple_works.iterrows():\n",
    "    print(row_values['first_name'], row_values['last_name'], 'has',\n",
    "         row_values['art_count'], 'public artworks of type', row_values['art_type'])\n",
    "    \n"
   ]
  },
  {
   "cell_type": "code",
   "execution_count": null,
   "metadata": {
    "collapsed": true
   },
   "outputs": [],
   "source": []
  }
 ],
 "metadata": {
  "kernelspec": {
   "display_name": "Python 3",
   "language": "python",
   "name": "python3"
  },
  "language_info": {
   "codemirror_mode": {
    "name": "ipython",
    "version": 3
   },
   "file_extension": ".py",
   "mimetype": "text/x-python",
   "name": "python",
   "nbconvert_exporter": "python",
   "pygments_lexer": "ipython3",
   "version": "3.7.3"
  }
 },
 "nbformat": 4,
 "nbformat_minor": 2
}
